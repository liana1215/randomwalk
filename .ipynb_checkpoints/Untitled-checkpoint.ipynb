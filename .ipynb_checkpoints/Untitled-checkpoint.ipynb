{
 "cells": [
  {
   "cell_type": "markdown",
   "metadata": {},
   "source": [
    "Abstract\n",
    "In the following exercise, a simple random walk in one-dimension will be defined and assessed. An analytical approach formulated and a solution presented. Specifically, a random walk with reflective barriers will be considered, with an empirical assessement concluding that a monte-carlo simulation confirms convergence to the analytical description of the solution. \n",
    "\n",
    "1. Introduction\n",
    "Random walks is a well studied subject matter with applications arising across many fields, where random walks are commonly utilized to model topic specific behaviours, despite the phenomena appearing unique to the particular field. \n",
    "\n",
    "2. Simple Random Walk\n",
    "A random walk is commonly defined as a stochastic sequence, defined by\n",
    "\n",
    "Sn = sum Xk n E N\n",
    "\n",
    "where {Sn} is a stochastic sequence and {Xk} are i.i.d random variables. Specifically, a simple random walk is defined as a sequence such Xn where the random variables take a value of 1 or -1 with probability p E [0,1] and 1-p respectively. Let S = {S0,S1,S2...} be the partial sum process associated with X. The sequence X is the simple random walk with parameter p. (ref http://www.math.uah.edu/stat/bernoulli/Walk.html)\n",
    "\n",
    "\n"
   ]
  },
  {
   "cell_type": "code",
   "execution_count": null,
   "metadata": {
    "collapsed": true
   },
   "outputs": [],
   "source": []
  }
 ],
 "metadata": {
  "kernelspec": {
   "display_name": "Python 2",
   "language": "python",
   "name": "python2"
  },
  "language_info": {
   "codemirror_mode": {
    "name": "ipython",
    "version": 2
   },
   "file_extension": ".py",
   "mimetype": "text/x-python",
   "name": "python",
   "nbconvert_exporter": "python",
   "pygments_lexer": "ipython2",
   "version": "2.7.6"
  }
 },
 "nbformat": 4,
 "nbformat_minor": 0
}
